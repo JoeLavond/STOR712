{
 "cells": [
  {
   "attachments": {},
   "cell_type": "markdown",
   "metadata": {},
   "source": [
    "### Homework 4"
   ]
  },
  {
   "attachments": {},
   "cell_type": "markdown",
   "metadata": {},
   "source": [
    "Import and clean the data."
   ]
  },
  {
   "cell_type": "code",
   "execution_count": 28,
   "metadata": {},
   "outputs": [
    {
     "name": "stdout",
     "output_type": "stream",
     "text": [
      "(71535, 13) (17884, 13) (71535,) (17884,)\n"
     ]
    }
   ],
   "source": [
    "import time\n",
    "import numpy as np\n",
    "import pandas as pd\n",
    "#Used to split into train and test set\n",
    "from sklearn.model_selection import train_test_split\n",
    "from sklearn.preprocessing import normalize\n",
    "\n",
    "\n",
    "#Assumes that the dataset is in the current working directory under the name 'SkyData.csv'\n",
    "df = pd.read_csv('data/skyserver.csv')\n",
    "\n",
    "#Delete some irrelevant columns\n",
    "df.drop(['objid', 'rerun', 'specobjid', 'plate', 'mjd'], axis=1, inplace=True)\n",
    "\n",
    "#Remove the Quasar class from the dataframe (makes the problem binary classification)\n",
    "#Change class labels from string to 0 and 1\n",
    "df = df[df['class']!='QSO']\n",
    "df['class'] = pd.factorize(df['class'])[0]\n",
    "\n",
    "#Create a dataframe without the class label\n",
    "#Convert the dataframe to a numpy array\n",
    "#Add an extra column of ones to the data so the linear model has an offset\n",
    "Adf = df.drop('class', axis = 1)\n",
    "A = Adf.to_numpy()\n",
    "A = normalize(A)\n",
    "A = np.hstack((A, np.ones((A.shape[0], 1), dtype=A.dtype)))\n",
    "\n",
    "#Create a dataframe of only the class labels\n",
    "#Convert ydf to a numpy array\n",
    "ydf = df['class']\n",
    "y = ydf.to_numpy()\n",
    "\n",
    "#Split data into train and test set\n",
    "A_train,A_test,y_train,y_test = train_test_split(A, y, test_size=0.2)\n",
    "print(A_train.shape, A_test.shape, y_train.shape, y_test.shape)"
   ]
  },
  {
   "cell_type": "markdown",
   "source": [
    "### Solutions\n",
    "\n",
    "Implement the following:\n",
    "1. Standard minibatch stochastic gradient\n",
    "2. Mini-batch stochastic gradient via random reshuffling\n",
    "3. SVRG\n",
    "\n",
    "Begin by defining the L2-regularized logistic regression model.\n",
    "Given data A and y and regularization parameter mu, compute either the function value or gradient for parameters x."
   ],
   "metadata": {
    "collapsed": false
   }
  },
  {
   "cell_type": "code",
   "execution_count": 29,
   "outputs": [],
   "source": [
    "def logistic_regression_model(x, mode, A, y, mu):\n",
    "    \"\"\"\n",
    "    :param x: input value at which to evaluate function model\n",
    "    :param A: data feature matrix\n",
    "    :param y: data labels\n",
    "    :param mu: L2 regularization parameter\n",
    "    :return: logistic regression model value or gradient at parameters x\n",
    "    \"\"\"\n",
    "\n",
    "    # compute predicted values for parameters x given data A\n",
    "    predicted_values = np.matmul(A, x)\n",
    "\n",
    "    # compute either the function value or gradient of the logistic regression model\n",
    "    if mode == 'value':\n",
    "        output = (\n",
    "            np.mean(\n",
    "                -1 * y * predicted_values + np.log(1 + np.exp(predicted_values))\n",
    "            )\n",
    "            + mu / 2 * np.linalg.norm(x)\n",
    "        )\n",
    "    elif mode == 'gradient':\n",
    "        scalars = (-1 * y + (np.exp(predicted_values) / (1 + np.exp(predicted_values))))\n",
    "        output = np.matmul(A.T, scalars) / A.shape[0] + mu * x\n",
    "    else:\n",
    "        raise ValueError('mode must be either \"value\" or \"gradient\"')\n",
    "\n",
    "    return output\n",
    "\n",
    "\n",
    "# each epoch consists of a full batch gradient update\n",
    "def gradient_descent(\n",
    "    fun,  # objective function\n",
    "    A_train, A_test, y_train, y_test,  # data\n",
    "    x0, alpha,  # algorithmic initializations\n",
    "    total_epochs,\n",
    "    decay=False  # learning rate decay of form alpha_k = alpha / k\n",
    "):\n",
    "\n",
    "    # initialize algorithm at initial point\n",
    "    x = x0\n",
    "    alpha_bar = alpha\n",
    "\n",
    "    gradient_computations = 0\n",
    "    gradient_computations_all = [gradient_computations]\n",
    "\n",
    "    training_loss = fun(x, 'value', A_train, y_train)\n",
    "    testing_loss = fun(x, 'value', A_test, y_test)\n",
    "    print(f'GD - Epoch 0, Training Loss: {training_loss:.4f}')\n",
    "\n",
    "    # initialize objects to store output\n",
    "    training_losses = [training_loss]\n",
    "    testing_losses = [testing_loss]\n",
    "\n",
    "    # run until maximum iterations are reached\n",
    "    for epoch_number in range(total_epochs):\n",
    "        epoch_start = time.time()\n",
    "\n",
    "        # compute gradient for all observations\n",
    "        gradient = fun(\n",
    "            x, 'gradient',  # compute\n",
    "            A_train, y_train  # data\n",
    "        )\n",
    "        gradient_computations = gradient_computations + 1\n",
    "\n",
    "        # perform gradient step\n",
    "        if decay:\n",
    "            alpha = alpha_bar / (epoch_number + 1)\n",
    "        x = x - alpha * gradient\n",
    "\n",
    "        # update training and test losses at batch end\n",
    "        training_loss = fun(x, 'value', A_train, y_train)\n",
    "        testing_loss = fun(x, 'value', A_test, y_test)\n",
    "\n",
    "        # print epoch summary\n",
    "        epoch_end = time.time()\n",
    "        if (epoch_number + 1) % 10 == 0:\n",
    "            print(f'GD - Epoch {epoch_number + 1:d}, Time {epoch_end - epoch_start:.1f}, Training Loss: {training_loss:.4f}')\n",
    "\n",
    "        # store in output\n",
    "        gradient_computations_all.append(gradient_computations)\n",
    "        training_losses.append(training_loss)\n",
    "        testing_losses.append(testing_loss)\n",
    "\n",
    "\n",
    "    return np.array(gradient_computations_all), np.array(training_losses), np.array(testing_losses)"
   ],
   "metadata": {
    "collapsed": false
   }
  },
  {
   "cell_type": "markdown",
   "source": [
    "The following code chunks implement each of the new algorithmic implementations"
   ],
   "metadata": {
    "collapsed": false
   }
  },
  {
   "cell_type": "code",
   "execution_count": 30,
   "outputs": [],
   "source": [
    "# each epoch consists of the number of batches that fit the input data\n",
    "# each batch is randomly sampled without replacement\n",
    "def stochastic_gradient_uniformly_at_random(\n",
    "    fun,  # objective function\n",
    "    A_train, A_test, y_train, y_test,  # data\n",
    "    x0, alpha,  # algorithmic initializations\n",
    "    total_epochs, batch_size,\n",
    "    decay=False  # learning rate decay of form alpha_k = alpha / k\n",
    "):\n",
    "\n",
    "    # initialize algorithm at initial point\n",
    "    x = x0\n",
    "    alpha_bar = alpha\n",
    "\n",
    "    gradient_computations = 0\n",
    "    gradient_computations_all = [gradient_computations]\n",
    "\n",
    "    T = 0\n",
    "    N = A_train.shape[0]\n",
    "    total_batches = N // batch_size\n",
    "    print(f'Observations: {N}, Batch Size: {batch_size}, Total Batches: {total_batches}')\n",
    "\n",
    "    # initialize objects to store output\n",
    "    training_loss = fun(x, 'value', A_train, y_train)\n",
    "    testing_loss = fun(x, 'value', A_test, y_test)\n",
    "    print(f'SGM Uniform - Epoch 0, Training Loss: {training_loss:.4f}')\n",
    "\n",
    "    training_losses = [training_loss]\n",
    "    testing_losses = [testing_loss]\n",
    "\n",
    "    # run until maximum iterations are reached\n",
    "    for epoch_number in range(total_epochs):\n",
    "        epoch_start = time.time()\n",
    "\n",
    "        for batch_number in range(total_batches):\n",
    "\n",
    "            # select random minibatch of size batch_size\n",
    "            batch_indices = np.random.randint(\n",
    "                low=0,\n",
    "                high=N,\n",
    "                size=batch_size\n",
    "            )\n",
    "\n",
    "            # compute gradient for randomly selected observations\n",
    "            gradient = fun(\n",
    "                x, 'gradient',  # compute\n",
    "                A_train[batch_indices, :], y_train[batch_indices]  # data subset\n",
    "            )\n",
    "            gradient_computations = gradient_computations + 1\n",
    "\n",
    "            # perform gradient step\n",
    "            # update learning rate\n",
    "            if decay:\n",
    "                alpha = alpha_bar / (T + 1)\n",
    "\n",
    "            x = x - alpha * gradient\n",
    "            T += 1\n",
    "\n",
    "\n",
    "        # update training and test losses at batch end\n",
    "        training_loss = fun(x, 'value', A_train, y_train)\n",
    "        testing_loss = fun(x, 'value', A_test, y_test)\n",
    "\n",
    "        # print epoch summary\n",
    "        epoch_end = time.time()\n",
    "        if (epoch_number + 1) % 10 == 0:\n",
    "            print(f'SGM Uniform - Epoch {epoch_number + 1:d}, Time {epoch_end - epoch_start:.1f}, Training Loss: {training_loss:.4f}')\n",
    "\n",
    "        # store in output\n",
    "        gradient_computations_all.append(gradient_computations)\n",
    "        training_losses.append(training_loss)\n",
    "        testing_losses.append(testing_loss)\n",
    "\n",
    "\n",
    "    return np.array(gradient_computations_all), np.array(training_losses), np.array(testing_losses)"
   ],
   "metadata": {
    "collapsed": false
   }
  },
  {
   "cell_type": "code",
   "execution_count": 31,
   "outputs": [],
   "source": [
    "# each epoch consists of a random permutation of the data set\n",
    "# batches of size batch_size are processed at a time moving through the permutation\n",
    "# remaining observations smaller than the desired batch size will be discarded\n",
    "def stochastic_gradient_random_reshuffle(\n",
    "    fun,  # objective function\n",
    "    A_train, A_test, y_train, y_test,  # data\n",
    "    x0, alpha,  # algorithmic initializations\n",
    "    total_epochs, batch_size,\n",
    "    decay=False  # learning rate decay of form alpha_k = alpha / k\n",
    "):\n",
    "\n",
    "    # initialize algorithm at initial point\n",
    "    x = x0\n",
    "    alpha_bar = alpha\n",
    "\n",
    "    gradient_computations = 0\n",
    "    gradient_computations_all = [gradient_computations]\n",
    "\n",
    "    T = 0\n",
    "    N = A_train.shape[0]\n",
    "    total_batches = N // batch_size\n",
    "    print(f'Observations: {N}, Batch Size: {batch_size}, Total Batches: {total_batches}')\n",
    "\n",
    "    # initialize objects to store output\n",
    "    training_loss = fun(x, 'value', A_train, y_train)\n",
    "    testing_loss = fun(x, 'value', A_test, y_test)\n",
    "    print(f'SGM Shuffle - Epoch 0, Training Loss: {training_loss:.4f}')\n",
    "\n",
    "    training_losses = [training_loss]\n",
    "    testing_losses = [testing_loss]\n",
    "\n",
    "    # run until maximum iterations are reached\n",
    "    for epoch_number in range(total_epochs):\n",
    "        epoch_start = time.time()\n",
    "\n",
    "        # randomly permute the data at the beginning of each epoch\n",
    "        # note that data NOT divisible by the batch size will have data discarded\n",
    "        epoch_permutation = np.random.permutation(N)\n",
    "        A_train = A_train[epoch_permutation, :]\n",
    "        y_train = y_train[epoch_permutation]\n",
    "\n",
    "        for batch_number in range(total_batches):\n",
    "\n",
    "            # identify the chunk of the permutation to use for this batch\n",
    "            batch_indices = np.arange(\n",
    "                start = batch_number * batch_size,\n",
    "                stop = (batch_number + 1) * batch_size\n",
    "            )\n",
    "\n",
    "            # compute gradient for randomly selected observations\n",
    "            gradient = fun(\n",
    "                x, 'gradient',  # compute\n",
    "                A_train[batch_indices, :], y_train[batch_indices]  # data subset\n",
    "            )\n",
    "            gradient_computations = gradient_computations + 1\n",
    "\n",
    "            # update learning rate\n",
    "            if decay:\n",
    "                alpha = alpha_bar / (T + 1)\n",
    "\n",
    "            # perform gradient step\n",
    "            x = x - alpha * gradient\n",
    "            T += 1\n",
    "\n",
    "        # update training and test losses at batch end\n",
    "        training_loss = fun(x, 'value', A_train, y_train)\n",
    "        testing_loss = fun(x, 'value', A_test, y_test)\n",
    "\n",
    "        # print epoch summary\n",
    "        epoch_end = time.time()\n",
    "        if (epoch_number + 1) % 10 == 0:\n",
    "            print(f'SGM Shuffle - Epoch {epoch_number + 1:d}, Time {epoch_end - epoch_start:.1f}, Training Loss: {training_loss:.4f}')\n",
    "\n",
    "        # store in output\n",
    "        gradient_computations_all.append(gradient_computations)\n",
    "        training_losses.append(training_loss)\n",
    "        testing_losses.append(testing_loss)\n",
    "\n",
    "\n",
    "    return np.array(gradient_computations_all), np.array(training_losses), np.array(testing_losses)"
   ],
   "metadata": {
    "collapsed": false
   }
  },
  {
   "cell_type": "code",
   "execution_count": 32,
   "outputs": [],
   "source": [
    "# source: Alg 5.1 of arxiv.org/pdf/1606.04838.pdf\n",
    "def stochastic_variance_reduced_gradient(\n",
    "    fun,  # objective function\n",
    "    A_train, A_test, y_train, y_test,  # data\n",
    "    x0, alpha,  # algorithmic initializations\n",
    "    total_epochs, batch_size  # additional hyperparameters\n",
    "):\n",
    "    \"\"\"\n",
    "    :param batch_size: used to compute hyperparameter m, will have double the gradient calculation\n",
    "    \"\"\"\n",
    "\n",
    "    # initialize algorithm at initial point\n",
    "    x_outer, x_inner = x0, x0\n",
    "    alpha_bar = alpha\n",
    "\n",
    "    gradient_computations = 0\n",
    "    gradient_computations_all = []\n",
    "\n",
    "    # the number of total batches\n",
    "    N = A_train.shape[0]\n",
    "    total_batches = N // batch_size\n",
    "    print(f'Observations: {N}, Batch Size: {batch_size}, Total Batches: {total_batches}')\n",
    "\n",
    "    # initialize objects to store output\n",
    "    training_loss = fun(x_outer, 'value', A_train, y_train)\n",
    "    testing_loss = fun(x_outer, 'value', A_test, y_test)\n",
    "    print(f'SVRG - Epoch 0, Training Loss: {training_loss:.4f}')\n",
    "\n",
    "    training_losses = [training_loss]\n",
    "    testing_losses = [testing_loss]\n",
    "\n",
    "    # run until maximum iterations are reached\n",
    "    for epoch_number in range(total_epochs):\n",
    "        epoch_start = time.time()\n",
    "\n",
    "        # compute the full batch gradient\n",
    "        full_gradient = fun(\n",
    "            x_outer, 'gradient',  # compute\n",
    "            A_train, y_train  # data\n",
    "        )\n",
    "        gradient_computations = gradient_computations + 1\n",
    "\n",
    "        # inner for loop iterations controlled by hyperparameter m\n",
    "        for j in range(total_batches):\n",
    "\n",
    "            # compute gradient for randomly selected observation\n",
    "            observation_index = np.random.choice(N)\n",
    "\n",
    "            # with respect to both inner and outer iterations\n",
    "            outer_gradient = fun(\n",
    "                x_outer, 'gradient',  # compute\n",
    "                A_train[[observation_index], :], y_train[observation_index]  # data subset\n",
    "            )\n",
    "            gradient_computations = gradient_computations + 1\n",
    "\n",
    "            inner_gradient = fun(\n",
    "                x_inner, 'gradient',  # compute\n",
    "                A_train[[observation_index], :], y_train[observation_index]  # data subset\n",
    "            )\n",
    "            gradient_computations = gradient_computations + 1\n",
    "\n",
    "            # compute gradient estimator\n",
    "            variance_reduced_gradient = inner_gradient - (outer_gradient - full_gradient)\n",
    "\n",
    "            # perform gradient step\n",
    "            x_inner = x_inner - alpha * variance_reduced_gradient\n",
    "\n",
    "\n",
    "        # update training and test losses at batch end\n",
    "        x_outer = x_inner\n",
    "        training_loss = fun(x_outer, 'value', A_train, y_train)\n",
    "        testing_loss = fun(x_outer, 'value', A_test, y_test)\n",
    "\n",
    "        epoch_end = time.time()\n",
    "        if (epoch_number + 1) % 10 == 0:\n",
    "            print(f'SVRG - Epoch {epoch_number + 1:d}, Time {epoch_end - epoch_start:.1f}, Training Loss: {training_loss:.4f}')\n",
    "\n",
    "        # store in output\n",
    "        gradient_computations_all.append(gradient_computations)\n",
    "        training_losses.append(training_loss)\n",
    "        testing_losses.append(testing_loss)\n",
    "\n",
    "\n",
    "    return np.array(gradient_computations_all), np.array(training_losses), np.array(testing_losses)"
   ],
   "metadata": {
    "collapsed": false
   }
  },
  {
   "cell_type": "markdown",
   "source": [
    "Perform the various descent methods for 100 total epochs with a batch size of 64 and a small regularization parameter of 10e-3."
   ],
   "metadata": {
    "collapsed": false
   }
  },
  {
   "cell_type": "code",
   "execution_count": 33,
   "outputs": [],
   "source": [
    "# defaults\n",
    "total_epochs = 100\n",
    "batch_size = 64\n",
    "mu = 10e-3"
   ],
   "metadata": {
    "collapsed": false
   }
  },
  {
   "cell_type": "code",
   "execution_count": 34,
   "outputs": [
    {
     "name": "stdout",
     "output_type": "stream",
     "text": [
      "GD - Epoch 0, Training Loss: 0.7867\n",
      "GD - Epoch 10, Time 0.0, Training Loss: 0.7790\n",
      "GD - Epoch 20, Time 0.0, Training Loss: 0.7719\n",
      "GD - Epoch 30, Time 0.0, Training Loss: 0.7653\n",
      "GD - Epoch 40, Time 0.0, Training Loss: 0.7592\n",
      "GD - Epoch 50, Time 0.0, Training Loss: 0.7535\n",
      "GD - Epoch 60, Time 0.0, Training Loss: 0.7483\n",
      "GD - Epoch 70, Time 0.0, Training Loss: 0.7434\n",
      "GD - Epoch 80, Time 0.0, Training Loss: 0.7390\n",
      "GD - Epoch 90, Time 0.0, Training Loss: 0.7349\n",
      "GD - Epoch 100, Time 0.0, Training Loss: 0.7311\n"
     ]
    }
   ],
   "source": [
    "# tune-able hyper-parameters\n",
    "x0 = np.random.random(size = A_train.shape[-1])\n",
    "alpha = 0.01\n",
    "\n",
    "# standard gradient descent\n",
    "_, gradient_descent_training_losses, gradient_descent_testing_losses = gradient_descent(\n",
    "    lambda x, y, A, b: logistic_regression_model(x, y, A, b, mu),\n",
    "    A_train, A_test, y_train, y_test,\n",
    "    x0, alpha,\n",
    "    total_epochs\n",
    ")\n",
    "\n",
    "methods = ['Fixed GD']\n",
    "methods_training_losses = [gradient_descent_training_losses]\n",
    "methods_testing_losses = [gradient_descent_testing_losses]"
   ],
   "metadata": {
    "collapsed": false
   }
  },
  {
   "cell_type": "code",
   "execution_count": 35,
   "outputs": [
    {
     "name": "stdout",
     "output_type": "stream",
     "text": [
      "Observations: 71535, Batch Size: 64, Total Batches: 1117\n",
      "SGM Uniform - Epoch 0, Training Loss: 0.7867\n",
      "SGM Uniform - Epoch 10, Time 0.1, Training Loss: 0.6847\n",
      "SGM Uniform - Epoch 20, Time 0.1, Training Loss: 0.6832\n",
      "SGM Uniform - Epoch 30, Time 0.1, Training Loss: 0.6832\n",
      "SGM Uniform - Epoch 40, Time 0.1, Training Loss: 0.6830\n",
      "SGM Uniform - Epoch 50, Time 0.1, Training Loss: 0.6830\n",
      "SGM Uniform - Epoch 60, Time 0.1, Training Loss: 0.6830\n",
      "SGM Uniform - Epoch 70, Time 0.1, Training Loss: 0.6830\n",
      "SGM Uniform - Epoch 80, Time 0.1, Training Loss: 0.6830\n",
      "SGM Uniform - Epoch 90, Time 0.1, Training Loss: 0.6830\n",
      "SGM Uniform - Epoch 100, Time 0.1, Training Loss: 0.6830\n"
     ]
    }
   ],
   "source": [
    "# stochastic gradient descents\n",
    "alpha = 0.01\n",
    "_, uniformly_at_random_training_losses, uniformly_at_random_testing_losses = stochastic_gradient_uniformly_at_random(\n",
    "    lambda x, y, A, b: logistic_regression_model(x, y, A, b, mu),\n",
    "    A_train, A_test, y_train, y_test,\n",
    "    x0, alpha,\n",
    "    total_epochs, batch_size\n",
    ")\n",
    "\n",
    "methods.append('Fixed SGM Uniform')\n",
    "methods_training_losses.append(uniformly_at_random_training_losses)\n",
    "methods_testing_losses.append(uniformly_at_random_testing_losses)"
   ],
   "metadata": {
    "collapsed": false
   }
  },
  {
   "cell_type": "code",
   "execution_count": 36,
   "outputs": [
    {
     "name": "stdout",
     "output_type": "stream",
     "text": [
      "Observations: 71535, Batch Size: 64, Total Batches: 1117\n",
      "SGM Uniform - Epoch 0, Training Loss: 0.7867\n",
      "SGM Uniform - Epoch 10, Time 0.1, Training Loss: 0.6914\n",
      "SGM Uniform - Epoch 20, Time 0.1, Training Loss: 0.6912\n",
      "SGM Uniform - Epoch 30, Time 0.1, Training Loss: 0.6911\n",
      "SGM Uniform - Epoch 40, Time 0.1, Training Loss: 0.6910\n",
      "SGM Uniform - Epoch 50, Time 0.1, Training Loss: 0.6910\n",
      "SGM Uniform - Epoch 60, Time 0.1, Training Loss: 0.6909\n",
      "SGM Uniform - Epoch 70, Time 0.1, Training Loss: 0.6909\n",
      "SGM Uniform - Epoch 80, Time 0.1, Training Loss: 0.6909\n",
      "SGM Uniform - Epoch 90, Time 0.1, Training Loss: 0.6909\n",
      "SGM Uniform - Epoch 100, Time 0.1, Training Loss: 0.6909\n"
     ]
    }
   ],
   "source": [
    "alpha = 0.5\n",
    "_, uniformly_at_random_decay_training_losses, uniformly_at_random_decay_testing_losses = stochastic_gradient_uniformly_at_random(\n",
    "    lambda x, y, A, b: logistic_regression_model(x, y, A, b, mu),\n",
    "    A_train, A_test, y_train, y_test,\n",
    "    x0, alpha,\n",
    "    total_epochs, batch_size,\n",
    "    decay=True\n",
    ")\n",
    "\n",
    "methods.append('Decay SGM Uniform')\n",
    "methods_training_losses.append(uniformly_at_random_decay_training_losses)\n",
    "methods_testing_losses.append(uniformly_at_random_decay_testing_losses)"
   ],
   "metadata": {
    "collapsed": false
   }
  },
  {
   "cell_type": "code",
   "execution_count": 37,
   "outputs": [
    {
     "name": "stdout",
     "output_type": "stream",
     "text": [
      "Observations: 71535, Batch Size: 64, Total Batches: 1117\n",
      "SGM Shuffle - Epoch 0, Training Loss: 0.7867\n",
      "SGM Shuffle - Epoch 10, Time 0.1, Training Loss: 0.6847\n",
      "SGM Shuffle - Epoch 20, Time 0.1, Training Loss: 0.6832\n",
      "SGM Shuffle - Epoch 30, Time 0.1, Training Loss: 0.6830\n",
      "SGM Shuffle - Epoch 40, Time 0.1, Training Loss: 0.6830\n",
      "SGM Shuffle - Epoch 50, Time 0.1, Training Loss: 0.6830\n",
      "SGM Shuffle - Epoch 60, Time 0.1, Training Loss: 0.6830\n",
      "SGM Shuffle - Epoch 70, Time 0.1, Training Loss: 0.6830\n",
      "SGM Shuffle - Epoch 80, Time 0.1, Training Loss: 0.6830\n",
      "SGM Shuffle - Epoch 90, Time 0.0, Training Loss: 0.6830\n",
      "SGM Shuffle - Epoch 100, Time 0.1, Training Loss: 0.6830\n"
     ]
    }
   ],
   "source": [
    "alpha = 0.01\n",
    "_, random_reshuffle_training_losses, random_reshuffle_testing_losses = stochastic_gradient_random_reshuffle(\n",
    "    lambda x, y, A, b: logistic_regression_model(x, y, A, b, mu),\n",
    "    A_train, A_test, y_train, y_test,\n",
    "    x0, alpha,\n",
    "    total_epochs, batch_size\n",
    ")\n",
    "\n",
    "methods.append('Fixed SGM Shuffle')\n",
    "methods_training_losses.append(random_reshuffle_training_losses)\n",
    "methods_testing_losses.append(random_reshuffle_testing_losses)"
   ],
   "metadata": {
    "collapsed": false
   }
  },
  {
   "cell_type": "code",
   "execution_count": 38,
   "outputs": [
    {
     "name": "stdout",
     "output_type": "stream",
     "text": [
      "Observations: 71535, Batch Size: 64, Total Batches: 1117\n",
      "SGM Shuffle - Epoch 0, Training Loss: 0.7867\n",
      "SGM Shuffle - Epoch 10, Time 0.1, Training Loss: 0.6916\n",
      "SGM Shuffle - Epoch 20, Time 0.1, Training Loss: 0.6913\n",
      "SGM Shuffle - Epoch 30, Time 0.1, Training Loss: 0.6912\n",
      "SGM Shuffle - Epoch 40, Time 0.1, Training Loss: 0.6911\n",
      "SGM Shuffle - Epoch 50, Time 0.0, Training Loss: 0.6911\n",
      "SGM Shuffle - Epoch 60, Time 0.1, Training Loss: 0.6910\n",
      "SGM Shuffle - Epoch 70, Time 0.0, Training Loss: 0.6910\n",
      "SGM Shuffle - Epoch 80, Time 0.1, Training Loss: 0.6910\n",
      "SGM Shuffle - Epoch 90, Time 0.1, Training Loss: 0.6910\n",
      "SGM Shuffle - Epoch 100, Time 0.1, Training Loss: 0.6909\n"
     ]
    }
   ],
   "source": [
    "alpha = 0.5\n",
    "_, random_reshuffle_decay_training_losses, random_reshuffle_decay_testing_losses = stochastic_gradient_random_reshuffle(\n",
    "    lambda x, y, A, b: logistic_regression_model(x, y, A, b, mu),\n",
    "    A_train, A_test, y_train, y_test,\n",
    "    x0, alpha,\n",
    "    total_epochs, batch_size,\n",
    "    decay=True\n",
    ")\n",
    "\n",
    "methods.append('Decay SGM Shuffle')\n",
    "methods_training_losses.append(random_reshuffle_decay_training_losses)\n",
    "methods_testing_losses.append(random_reshuffle_decay_testing_losses)"
   ],
   "metadata": {
    "collapsed": false
   }
  },
  {
   "cell_type": "code",
   "execution_count": 39,
   "outputs": [
    {
     "name": "stdout",
     "output_type": "stream",
     "text": [
      "Observations: 71535, Batch Size: 1, Total Batches: 71535\n",
      "SVRG - Epoch 0, Training Loss: 0.7867\n",
      "SVRG - Epoch 10, Time 4.1, Training Loss: 0.6830\n",
      "SVRG - Epoch 20, Time 4.4, Training Loss: 0.6830\n",
      "SVRG - Epoch 30, Time 4.0, Training Loss: 0.6830\n",
      "SVRG - Epoch 40, Time 4.0, Training Loss: 0.6830\n",
      "SVRG - Epoch 50, Time 3.9, Training Loss: 0.6830\n"
     ]
    }
   ],
   "source": [
    "import math\n",
    "\n",
    "# variance reduced gradient estimation algorithm\n",
    "alpha = 0.01\n",
    "_, variance_reduced_training_losses, variance_reduced_testing_losses = stochastic_variance_reduced_gradient(\n",
    "    lambda x, y, A, b: logistic_regression_model(x, y, A, b, mu),\n",
    "    A_train, A_test, y_train, y_test,\n",
    "    x0, alpha,\n",
    "    math.ceil(total_epochs / 2),\n",
    "    batch_size=1\n",
    ")"
   ],
   "metadata": {
    "collapsed": false
   }
  },
  {
   "cell_type": "markdown",
   "source": [
    "Plot the various training and testing losses on seperate plots"
   ],
   "metadata": {
    "collapsed": false
   }
  },
  {
   "cell_type": "code",
   "execution_count": 41,
   "outputs": [
    {
     "data": {
      "text/plain": "<Figure size 800x400 with 2 Axes>",
      "image/png": "[encoded data removed]"
     },
     "metadata": {},
     "output_type": "display_data"
    }
   ],
   "source": [
    "import matplotlib.pyplot as plt\n",
    "fig, axarr = plt.subplots(ncols=2, sharey=True, figsize=(8, 4))\n",
    "\n",
    "# plot training losses\n",
    "plt.sca(axarr[0])\n",
    "for method_training_losses in methods_training_losses:\n",
    "    plt.plot(np.arange(len(method_training_losses)), method_training_losses)\n",
    "plt.plot(2 * np.arange(len(variance_reduced_training_losses)), variance_reduced_training_losses)\n",
    "\n",
    "# plot testing losses\n",
    "plt.sca(axarr[1])\n",
    "for method_testing_losses in methods_testing_losses:\n",
    "    plt.plot(np.arange(len(method_testing_losses)), method_testing_losses)\n",
    "plt.semilogy(2 * np.arange(len(variance_reduced_testing_losses)), variance_reduced_testing_losses)\n",
    "\n",
    "plt.legend(methods + ['SVRG'])\n",
    "plt.show()\n"
   ],
   "metadata": {
    "collapsed": false
   }
  },
  {
   "cell_type": "markdown",
   "source": [
    "A few comments on the above image:\n",
    "- Both decaying SGM methods converge to a higher value than optimal. Note than since the decaying learning rate is a function of the number of iterations, a large learning rate may be required to reach the optimal solution.\n",
    "- Gradient descent appears relatively slow compared to the other methods. However, the alternative methods take over 1000 updates with the given batch size for each update of gradient descent. Even though the data passes are equivalent, perhaps the work done is not a perfectly fair comparison."
   ],
   "metadata": {
    "collapsed": false
   }
  }
 ],
 "metadata": {
  "kernelspec": {
   "display_name": "Python 3",
   "language": "python",
   "name": "python3"
  },
  "language_info": {
   "codemirror_mode": {
    "name": "ipython",
    "version": 3
   },
   "file_extension": ".py",
   "mimetype": "text/x-python",
   "name": "python",
   "nbconvert_exporter": "python",
   "pygments_lexer": "ipython3",
   "version": "3.11.2"
  },
  "orig_nbformat": 4,
  "vscode": {
   "interpreter": {
    "hash": "fc0521d73723d578bb29ab2609a41e433193533effbf9bc11ccfb972d3624215"
   }
  }
 },
 "nbformat": 4,
 "nbformat_minor": 2
}
